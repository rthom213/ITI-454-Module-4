{
 "cells": [
  {
   "cell_type": "code",
   "execution_count": 40,
   "metadata": {},
   "outputs": [
    {
     "name": "stdout",
     "output_type": "stream",
     "text": [
      "What's your date of birth? 2014\n",
      "What's your favorite gift? Lego\n",
      "What's your dream job? Inventor\n"
     ]
    }
   ],
   "source": [
    "# Exercise 1: Ask for a birthday, a favorite gift, and their dream job is and display that information within a block quote\n",
    "birthDate = input(\"What's your date of birth? \")\n",
    "favoriteGift = input(\"What's your favorite gift? \")\n",
    "dreamJob = input(\"What's your dream job? \")"
   ]
  },
  {
   "cell_type": "code",
   "execution_count": 41,
   "metadata": {},
   "outputs": [
    {
     "name": "stdout",
     "output_type": "stream",
     "text": [
      "Your date of birth is 2014\n",
      "Your favorite gift is Lego\n",
      "Your dream job is to become a Inventor \n"
     ]
    }
   ],
   "source": [
    "print (f\"Your date of birth is {birthDate}\\nYour favorite gift is {favoriteGift}\\nYour dream job is to become a {dreamJob} \")"
   ]
  },
  {
   "cell_type": "code",
   "execution_count": 42,
   "metadata": {},
   "outputs": [
    {
     "name": "stdout",
     "output_type": "stream",
     "text": [
      "What's your favorite song? Pirates of the Carribean\n",
      "What's your favorite movie? Star wars\n",
      "What's your favorite book? Swallowdale\n"
     ]
    }
   ],
   "source": [
    "# Exercise 2: Ask for a favorite song, favorite movie, and favorite book.\n",
    "# Use print statements to ask the questions, however they must type the answer on the same line the question is asked\n",
    "# Display the result\n",
    "print(\"What's your favorite song? \", end = '')\n",
    "answer = input()\n",
    "print(\"What's your favorite movie? \", end = '')\n",
    "answer = input()\n",
    "print(\"What's your favorite book? \", end = '')\n",
    "answer = input()"
   ]
  },
  {
   "cell_type": "code",
   "execution_count": 43,
   "metadata": {},
   "outputs": [
    {
     "name": "stdout",
     "output_type": "stream",
     "text": [
      "What are you giving me for my birthday? A sketch of a bird\n",
      "Guess my age? 36\n",
      "I am getting A sketch of a bird for my birthday and you guessed that I am turning 36.\n"
     ]
    }
   ],
   "source": [
    "# Exercise 3: Ask what they are going to give you for your birthday and ask them how old you are turning.\n",
    "# Do not use any print statements to prompt for the inputs. \n",
    "# Display the answers in a nicely formated way.(may only use one print statement)\n",
    "\n",
    "#answer = input(\"What are you giving me for my birthday? \")\n",
    "#answer = input(\"Guess my age? \")\n",
    "birthdayGift = input(\"What are you giving me for my birthday? \")\n",
    "myAge = input(\"Guess my age? \")\n",
    "print (f\"I am getting {birthdayGift} for my birthday and you guessed that I am turning {myAge}.\")\n",
    "\n"
   ]
  },
  {
   "cell_type": "code",
   "execution_count": 2,
   "metadata": {},
   "outputs": [
    {
     "name": "stdout",
     "output_type": "stream",
     "text": [
      " 1. Prompt\n",
      " 2. Built in function\n",
      " 3. Use comments to explain code and stop lines from being executed\n",
      " 4. To define and store information\n",
      " 5. Ask a question to the user to provide information\n"
     ]
    }
   ],
   "source": [
    "# Exercise 4: What is the input() piece in code called? \n",
    "Ans1 = \" 1. Prompt\\n\"\n",
    "# Why do we use things like print(), input(), or our own sets?\n",
    "Ans2 =\"2. Built in function\\n\"\n",
    "# Why do we use comments? \n",
    "Ans3 = \"3. Use comments to explain code and stop lines from being executed\\n\"\n",
    "# Why do we use variables?\n",
    "Ans4 = \"4. To define and store information\\n\"\n",
    "# What do we do we do before we take an input? Why?\n",
    "Ans5 = \"5. Ask a question to the user to provide information\"\n",
    "# Please print this answer using only one print statement\n",
    "print(Ans1, Ans2, Ans3, Ans4, Ans5)"
   ]
  },
  {
   "cell_type": "code",
   "execution_count": 45,
   "metadata": {},
   "outputs": [
    {
     "name": "stdout",
     "output_type": "stream",
     "text": [
      "What time do you want to eat?\n",
      "1pm\n",
      "Okay! 1pm, where?\n",
      "Woodlands\n",
      "Gotcha, I booked us a table at Woodlands.\n",
      "How are you going to get there?\n",
      "By car\n",
      "Sounds good! I'll see you then\n"
     ]
    }
   ],
   "source": [
    "# Exercise 5: Your partner is asking you to go to eat.\n",
    "# Use print statments to ask the questions and your inputs should nicely formated like the third lesson \n",
    "# They ask you what time you want to go, where you want to eat, and how you will be getting there.\n",
    "# Make the conversation flow like you were texting someone\n",
    "\n",
    "# Example: What time do you want to eat? \n",
    "# > 7:30pm\n",
    "# Okay! 7:30pm, where?\n",
    "# > Iron Age\n",
    "# Gotcha, I booked us a table at Iron Age.\n",
    "# How are you going to get there?\n",
    "# > I am taking the car\n",
    "# Sounds good! I'll see you then.\n",
    "\n",
    "print(\"What time do you want to eat?\")\n",
    "time = input()\n",
    "print(f\"Okay! {time}, where?\")\n",
    "place = input()\n",
    "print(f\"Gotcha, I booked us a table at {place}.\")\n",
    "print(f\"How are you going to get there?\")\n",
    "answer = input()\n",
    "#print(answer)\n",
    "print(\"Sounds good! I'll see you then\")"
   ]
  },
  {
   "cell_type": "code",
   "execution_count": 20,
   "metadata": {},
   "outputs": [
    {
     "name": "stdout",
     "output_type": "stream",
     "text": [
      "Provide str1: yes\n",
      "Provide str2: no\n",
      "yes no\n"
     ]
    }
   ],
   "source": [
    "# Exercise 6: Create a function that concatonates two strings and prints the new sentence out. \n",
    "# Ask a user to type in two strings and print out the concatonation by calling your function.\n",
    "\n",
    "def concatonates (str1, str2) :\n",
    "    print(str1 + \" \" + str2)\n",
    "str1 = input(\"Provide str1: \")\n",
    "str2 = input(\"Provide str2: \")\n",
    "concatonates(str1, str2) \n",
    "\n"
   ]
  },
  {
   "cell_type": "code",
   "execution_count": 6,
   "metadata": {},
   "outputs": [
    {
     "name": "stdout",
     "output_type": "stream",
     "text": [
      " Feliz cumpleaños a ti\n",
      " feliz cumpleaños a ti\n",
      " feliz cumpleaños querido amigo\n",
      " feliz cumpleaños a ti.\n"
     ]
    }
   ],
   "source": [
    "# Exercise 7: Create a function that needs nothing and prints out the Happy birthday song in Spanish. \n",
    "# Use the function to display the result.\n",
    "# The song lyric is below\n",
    "\n",
    "# Feliz cumpleaños a ti\n",
    "# feliz cumpleaños a ti\n",
    "# feliz cumpleaños querido amigo\n",
    "# feliz cumpleaños a ti.\n",
    "\n",
    "def greetings() :\n",
    "    print(\" Feliz cumpleaños a ti\\n feliz cumpleaños a ti\\n feliz cumpleaños querido amigo\\n feliz cumpleaños a ti.\")\n",
    "greetings()\n"
   ]
  },
  {
   "cell_type": "code",
   "execution_count": 20,
   "metadata": {},
   "outputs": [
    {
     "data": {
      "text/plain": [
       "22"
      ]
     },
     "execution_count": 20,
     "metadata": {},
     "output_type": "execute_result"
    }
   ],
   "source": [
    "# Exercise 8: Create a function that takes the sum of three numbers and returns the value\n",
    "# Make sure to use the function and display the result\n",
    "# When you are done, get 3 numbers from a user and then print out the sum using your function\n",
    "\n",
    "def addition (numb1, numb2, numb3) :\n",
    "    retval = numb1 + numb2 + numb3\n",
    "    return retval\n",
    "\n",
    "#numb1 = input()\n",
    "#numb2 = input()\n",
    "#numb3 = input()\n",
    "#addition(numb1, numb2, numb3) # why is it only concatenating when using this method in comments?\n",
    "\n",
    "addition(5, 8, 9)\n"
   ]
  },
  {
   "cell_type": "code",
   "execution_count": 27,
   "metadata": {},
   "outputs": [
    {
     "name": "stdout",
     "output_type": "stream",
     "text": [
      "why\n",
      "why why why \n"
     ]
    }
   ],
   "source": [
    "# Exercise 9: Create a function that takes two arguments and prints out a sentence or word by the amount of times you specify.\n",
    "\n",
    "def repeat_message (message, numb) : \n",
    "    #retval =  f\"{message} \" * numb         # this code prints within single quotes\n",
    "    #return retval\n",
    "     print(f\"{message} \" * numb)\n",
    "\n",
    "message = input()\n",
    "repeat_message(message, 3)         \n"
   ]
  },
  {
   "cell_type": "code",
   "execution_count": 1,
   "metadata": {},
   "outputs": [
    {
     "name": "stdout",
     "output_type": "stream",
     "text": [
      "3\n",
      "2\n",
      "6\n",
      "2\n",
      "118\n",
      "63\n"
     ]
    },
    {
     "data": {
      "text/plain": [
       "20.9"
      ]
     },
     "execution_count": 1,
     "metadata": {},
     "output_type": "execute_result"
    }
   ],
   "source": [
    "# Exercise 10: Create a function within a function\n",
    "# Create a function for \n",
    "#     adding 2 numbers, \n",
    "#     subtracting 2 numbers, \n",
    "#     multiplying 2 numbers, \n",
    "#     and dividing 2 numbers.\n",
    "#\n",
    "# Then create a function that will compute \n",
    "#      BMI = ( Weight in Pounds / ( Height in inches x Height in inches ) ) x 703\n",
    "#\n",
    "# Get a weight and height from a user to compute user's BMI using your functions.\n",
    "\n",
    "def addition (numb1, numb2):\n",
    "    reval = numb1 + numb2\n",
    "    return reval\n",
    "print(addition(1,2))\n",
    "\n",
    "def subtraction (numb1, numb2) :\n",
    "    reval = numb1 - numb2\n",
    "    return reval\n",
    "print(subtraction(3,1))\n",
    "\n",
    "def multiply (numb1, numb2) :\n",
    "    reval = numb1 * numb2\n",
    "    return reval\n",
    "print(multiply(2, 3))\n",
    "\n",
    "def division (numb1, numb2) :\n",
    "    reval = numb1 / numb2\n",
    "    return round(reval)\n",
    "print(division(6, 3))\n",
    "\n",
    "\n",
    "def BMI (numb1, numb2) :\n",
    "    reval = (numb1/multiply(numb2, numb2)) *703 # Not sure I understood this question well, but I did use a function in another function here\n",
    "    return round(reval, 2)\n",
    "\n",
    "numb1 = input()\n",
    "numb2 = input()\n",
    "inumb1 = int(numb1)\n",
    "inumb2 = int(numb2)\n",
    "\n",
    "BMI (inumb1, inumb2)\n",
    "#print(BMI(118, 63))"
   ]
  },
  {
   "cell_type": "code",
   "execution_count": 39,
   "metadata": {},
   "outputs": [
    {
     "name": "stdout",
     "output_type": "stream",
     "text": [
      "2\n",
      "2\n",
      "2\n"
     ]
    },
    {
     "data": {
      "text/plain": [
       "2.0"
      ]
     },
     "execution_count": 39,
     "metadata": {},
     "output_type": "execute_result"
    }
   ],
   "source": [
    "# Exercise 11: \n",
    "# Modify and use your pseudocode for \"Find the average score\" from \n",
    "# Day 2 homework to create a function that takes 3 arguements \n",
    "# and returns their average\n",
    "# Get three numbers from a user and use your function to compute their average\n",
    "\n",
    "def average(Numb1, Numb2, Numb3) :\n",
    "    reval = (Numb1 + Numb2 + Numb3) /3  #why use reval, when we can use print like below in 3 ways?\n",
    "    return reval\n",
    "#print(average(2,2,2))  This code works too\n",
    "Numb1 = input()\n",
    "iNumb1 = float(Numb1)\n",
    "Numb2 = input()\n",
    "iNumb2 = float(Numb2)\n",
    "Numb3 = input()\n",
    "iNumb3 = float(Numb3)\n",
    "\n",
    "average(iNumb1, iNumb2, iNumb3)\n"
   ]
  },
  {
   "cell_type": "code",
   "execution_count": 15,
   "metadata": {},
   "outputs": [
    {
     "name": "stdout",
     "output_type": "stream",
     "text": [
      "What is length of roof 50\n",
      "What is breadth of roof 20\n",
      "What is total rainfall 2\n",
      "600.0\n",
      "240.0\n",
      "312\n"
     ]
    }
   ],
   "source": [
    "# Exercise 12:\n",
    "# Using your pseudocode for \"How much water runs off a roof in a rain storm?\" \n",
    "# from Day 2 homework, write a Python program with a function. \n",
    "# Which functionality make sense to modulize into a function?\n",
    "\n",
    "lengthOfroof = input(\"What is length of roof \")\n",
    "breadthOfroof = input(\"What is breadth of roof \")\n",
    "totalrainfall = input(\"What is total rainfall \")\n",
    "\n",
    "ilengthOfroof = float(lengthOfroof)\n",
    "ibreadthOfroof = float(breadthOfroof)\n",
    "itotalrainfall = float(totalrainfall)\n",
    "\n",
    "print(multiply(ilengthOfroof, 12))\n",
    "print(multiply(ibreadthOfroof, 12))\n",
    "print(round(multiply(ilengthOfroof, 12) * (multiply(ibreadthOfroof, 12))/itotalrainfall / 231))\n",
    "\n",
    "    \n",
    "# See another way below without user input\n"
   ]
  },
  {
   "cell_type": "code",
   "execution_count": 14,
   "metadata": {},
   "outputs": [
    {
     "name": "stdout",
     "output_type": "stream",
     "text": [
      "623\n"
     ]
    }
   ],
   "source": [
    "def rainfallrunoff(numb1, numb2, numb3) :\n",
    "    print(round((((numb1 *12) * (numb2 *12)/numb3))/231))\n",
    "rainfallrunoff(50, 20, 1)\n"
   ]
  },
  {
   "cell_type": "code",
   "execution_count": 17,
   "metadata": {},
   "outputs": [
    {
     "name": "stdout",
     "output_type": "stream",
     "text": [
      "50\n",
      "20\n",
      "1\n",
      "623\n"
     ]
    }
   ],
   "source": [
    "def rainfallrunoff(numb1, numb2, numb3) :\n",
    "    print(round((((numb1 *12) * (numb2 *12)/numb3))/231))\n",
    "    \n",
    "numb1 = input()\n",
    "numb2 = input()\n",
    "numb3 = input()\n",
    "inumb1 = int(numb1)\n",
    "inumb2 = int(numb2)\n",
    "inumb3 = int(numb3)\n",
    "\n",
    "rainfallrunoff(inumb1, inumb2, inumb3)\n"
   ]
  },
  {
   "cell_type": "code",
   "execution_count": null,
   "metadata": {},
   "outputs": [],
   "source": []
  }
 ],
 "metadata": {
  "kernelspec": {
   "display_name": "Python 3 (ipykernel)",
   "language": "python",
   "name": "python3"
  },
  "language_info": {
   "codemirror_mode": {
    "name": "ipython",
    "version": 3
   },
   "file_extension": ".py",
   "mimetype": "text/x-python",
   "name": "python",
   "nbconvert_exporter": "python",
   "pygments_lexer": "ipython3",
   "version": "3.9.13"
  }
 },
 "nbformat": 4,
 "nbformat_minor": 2
}
